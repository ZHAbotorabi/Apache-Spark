{
  "nbformat": 4,
  "nbformat_minor": 0,
  "metadata": {
    "colab": {
      "provenance": [],
      "authorship_tag": "ABX9TyOupJVUHReGVhLYy6cGnLiP",
      "include_colab_link": true
    },
    "kernelspec": {
      "name": "python3",
      "display_name": "Python 3"
    },
    "language_info": {
      "name": "python"
    }
  },
  "cells": [
    {
      "cell_type": "markdown",
      "metadata": {
        "id": "view-in-github",
        "colab_type": "text"
      },
      "source": [
        "<a href=\"https://colab.research.google.com/github/ZHAbotorabi/Apache-Spark/blob/main/News_Headline_Categorization_using_Spark_NLP(Classification_Clustering).ipynb\" target=\"_parent\"><img src=\"https://colab.research.google.com/assets/colab-badge.svg\" alt=\"Open In Colab\"/></a>"
      ]
    },
    {
      "cell_type": "markdown",
      "source": [
        "Using Apache Spark. Here's a step-by-step guide to start:\n",
        "\n",
        "## Step 1: Install Java and PySpark\n",
        "Install Java and PySpark in your Colab environment."
      ],
      "metadata": {
        "id": "1fNs6WsKGK1F"
      }
    },
    {
      "cell_type": "code",
      "execution_count": 4,
      "metadata": {
        "colab": {
          "base_uri": "https://localhost:8080/"
        },
        "id": "zNCbsSJj-gAf",
        "outputId": "2b44b143-c26c-443a-fffd-e8efedf16abe"
      },
      "outputs": [
        {
          "output_type": "stream",
          "name": "stdout",
          "text": [
            "Requirement already satisfied: pyspark in /usr/local/lib/python3.10/dist-packages (3.5.3)\n",
            "Requirement already satisfied: py4j==0.10.9.7 in /usr/local/lib/python3.10/dist-packages (from pyspark) (0.10.9.7)\n"
          ]
        }
      ],
      "source": [
        "# Install Java\n",
        "!apt-get install openjdk-8-jdk-headless -qq > /dev/null\n",
        "\n",
        "# Install PySpark\n",
        "!pip install pyspark"
      ]
    },
    {
      "cell_type": "markdown",
      "source": [
        "## Step 2: Set Up Environment Variables\n",
        "Set up the environment variables for Java."
      ],
      "metadata": {
        "id": "taY-6YclG4Zq"
      }
    },
    {
      "cell_type": "code",
      "source": [
        "import os\n",
        "\n",
        "# Set the environment variable for Java\n",
        "os.environ['JAVA_HOME'] = \"/usr/lib/jvm/java-8-openjdk-amd64\""
      ],
      "metadata": {
        "id": "pwAJM8D4_0PD"
      },
      "execution_count": 5,
      "outputs": []
    },
    {
      "cell_type": "markdown",
      "source": [
        "## Step 3: Start a Spark Session\n",
        "Now that everything is set up, create a Spark session."
      ],
      "metadata": {
        "id": "71rJBty5HP_N"
      }
    },
    {
      "cell_type": "code",
      "source": [
        "from pyspark.sql import SparkSession\n",
        "\n",
        "# Create a Spark session\n",
        "spark = SparkSession.builder \\\n",
        "    .appName(\"ColabSpark\") \\\n",
        "    .getOrCreate()\n",
        "\n",
        "# Check the Spark version\n",
        "print(spark.version)\n"
      ],
      "metadata": {
        "colab": {
          "base_uri": "https://localhost:8080/"
        },
        "id": "HWHmOYFS_7tF",
        "outputId": "3765d410-d357-4d3c-a300-bd418c92e23f"
      },
      "execution_count": 6,
      "outputs": [
        {
          "output_type": "stream",
          "name": "stdout",
          "text": [
            "3.5.3\n"
          ]
        }
      ]
    },
    {
      "cell_type": "markdown",
      "source": [
        "## Step 4: Use Spark as a simple sample"
      ],
      "metadata": {
        "id": "GzrQIqSKHfmM"
      }
    },
    {
      "cell_type": "code",
      "source": [
        "# Sample data\n",
        "data = [(\"Alice\", 34), (\"Bob\", 45), (\"Cathy\", 29)]\n",
        "columns = [\"Name\", \"Age\"]\n",
        "\n",
        "# Create DataFrame\n",
        "df = spark.createDataFrame(data, schema=columns)\n",
        "\n",
        "# Show the DataFrame\n",
        "df.show()\n",
        "\n",
        "# Perform some operations\n",
        "df.filter(df.Age > 30).show()"
      ],
      "metadata": {
        "colab": {
          "base_uri": "https://localhost:8080/"
        },
        "id": "6aKTqvQfAEKN",
        "outputId": "6cc6bc6d-6b80-4fc4-ae49-314fb493fab9"
      },
      "execution_count": 7,
      "outputs": [
        {
          "output_type": "stream",
          "name": "stdout",
          "text": [
            "+-----+---+\n",
            "| Name|Age|\n",
            "+-----+---+\n",
            "|Alice| 34|\n",
            "|  Bob| 45|\n",
            "|Cathy| 29|\n",
            "+-----+---+\n",
            "\n",
            "+-----+---+\n",
            "| Name|Age|\n",
            "+-----+---+\n",
            "|Alice| 34|\n",
            "|  Bob| 45|\n",
            "+-----+---+\n",
            "\n"
          ]
        }
      ]
    },
    {
      "cell_type": "markdown",
      "source": [
        "## Step 5: Use Spark as a real project"
      ],
      "metadata": {
        "id": "Chld_7ClHvvc"
      }
    },
    {
      "cell_type": "markdown",
      "source": [
        "# Project: News Headline Categorization using Spark NLP\n",
        "This complete workflow includes loading the data, preprocessing (including lowercasing, tokenization, stopword removal), feature extraction (using TF-IDF), and training a logistic regression model for classification. Finally, it evaluates the model and displays the accuracy and predictions."
      ],
      "metadata": {
        "id": "Fshh86H1CAVn"
      }
    },
    {
      "cell_type": "code",
      "source": [
        "from pyspark.sql import SparkSession\n",
        "from pyspark.sql import functions as F\n",
        "from pyspark.ml.feature import Tokenizer, StopWordsRemover, HashingTF, IDF\n",
        "from pyspark.ml import Pipeline\n",
        "from pyspark.ml.classification import LogisticRegression\n",
        "from pyspark.ml.evaluation import MulticlassClassificationEvaluator"
      ],
      "metadata": {
        "id": "4NgeR8y5FD3_"
      },
      "execution_count": 8,
      "outputs": []
    },
    {
      "cell_type": "code",
      "source": [
        "from pyspark.sql import SparkSession\n",
        "\n",
        "spark = SparkSession.builder \\\n",
        "    .appName(\"NewsHeadlinesCategorization\") \\\n",
        "    .getOrCreate()\n"
      ],
      "metadata": {
        "id": "zrOpko9GBs2H"
      },
      "execution_count": 9,
      "outputs": []
    },
    {
      "cell_type": "code",
      "source": [
        "import requests\n",
        "import pandas as pd\n",
        "\n",
        "# Your NewsAPI key\n",
        "API_KEY = '36d...d091fe2f34c...e5d6cc0ac5c2f87...'\n",
        "\n",
        "# Fetch top headlines from the US\n",
        "url = f\"https://newsapi.org/v2/top-headlines?country=us&apiKey={API_KEY}\"\n",
        "response = requests.get(url)\n",
        "data = response.json()\n",
        "\n",
        "# Check if the request was successful\n",
        "if data[\"status\"] != \"ok\":\n",
        "    print(\"Failed to fetch data:\", data)\n",
        "    exit()\n",
        "\n",
        "# Extract relevant information (headline + manually assigned category)\n",
        "headlines = []\n",
        "for article in data[\"articles\"]:\n",
        "    title = article[\"title\"]\n",
        "    # Basic category assignment (you can customize this)\n",
        "    if any(keyword in title.lower() for keyword in [\"sport\", \"game\", \"match\"]):\n",
        "        category = \"Sports\"\n",
        "    elif any(keyword in title.lower() for keyword in [\"tech\", \"apple\", \"google\", \"ai\", \"software\"]):\n",
        "        category = \"Technology\"\n",
        "    elif any(keyword in title.lower() for keyword in [\"politics\", \"government\", \"election\"]):\n",
        "        category = \"Politics\"\n",
        "    else:\n",
        "        category = \"Other\"\n",
        "\n",
        "    headlines.append({\"headline\": title, \"category\": category})\n",
        "\n",
        "# Create a DataFrame and save it as a CSV file\n",
        "df = pd.DataFrame(headlines)\n",
        "df.to_csv(\"news_headlines.csv\", index=False)\n",
        "\n",
        "print(\"CSV file 'news_headlines.csv' created successfully!\")\n",
        "df.head(10)"
      ],
      "metadata": {
        "colab": {
          "base_uri": "https://localhost:8080/",
          "height": 381
        },
        "id": "vFSgCuQoCCw2",
        "outputId": "11efa765-129e-4d75-bfb1-3767e141f394"
      },
      "execution_count": 12,
      "outputs": [
        {
          "output_type": "stream",
          "name": "stdout",
          "text": [
            "CSV file 'news_headlines.csv' created successfully!\n"
          ]
        },
        {
          "output_type": "execute_result",
          "data": {
            "text/plain": [
              "                                            headline    category\n",
              "0  Stock market today: Nasdaq leads stocks lower ...       Other\n",
              "1  NFL Fantasy 2024 Start 'Em, Sit 'Em: Quarterba...       Other\n",
              "2  Four killed, 14 injured in terror attack on Tu...       Other\n",
              "3  How long can you stand on one foot? The answer...       Other\n",
              "4  Maps and charts: Tracking the early votes in k...    Politics\n",
              "5  Apple Releases First Betas of iOS 18.2 and Mor...  Technology\n",
              "6  Apple and Goldman Sachs fined millions for mis...  Technology\n",
              "7  Chinese influence operation targets US down ba...       Other\n",
              "8  Iranian hacker group focuses on US election we...    Politics\n",
              "9  Boeing reports $6 billion quarterly loss as st...       Other"
            ],
            "text/html": [
              "\n",
              "  <div id=\"df-8e8abc59-9854-4264-8c2e-c9ebaf37ffe8\" class=\"colab-df-container\">\n",
              "    <div>\n",
              "<style scoped>\n",
              "    .dataframe tbody tr th:only-of-type {\n",
              "        vertical-align: middle;\n",
              "    }\n",
              "\n",
              "    .dataframe tbody tr th {\n",
              "        vertical-align: top;\n",
              "    }\n",
              "\n",
              "    .dataframe thead th {\n",
              "        text-align: right;\n",
              "    }\n",
              "</style>\n",
              "<table border=\"1\" class=\"dataframe\">\n",
              "  <thead>\n",
              "    <tr style=\"text-align: right;\">\n",
              "      <th></th>\n",
              "      <th>headline</th>\n",
              "      <th>category</th>\n",
              "    </tr>\n",
              "  </thead>\n",
              "  <tbody>\n",
              "    <tr>\n",
              "      <th>0</th>\n",
              "      <td>Stock market today: Nasdaq leads stocks lower ...</td>\n",
              "      <td>Other</td>\n",
              "    </tr>\n",
              "    <tr>\n",
              "      <th>1</th>\n",
              "      <td>NFL Fantasy 2024 Start 'Em, Sit 'Em: Quarterba...</td>\n",
              "      <td>Other</td>\n",
              "    </tr>\n",
              "    <tr>\n",
              "      <th>2</th>\n",
              "      <td>Four killed, 14 injured in terror attack on Tu...</td>\n",
              "      <td>Other</td>\n",
              "    </tr>\n",
              "    <tr>\n",
              "      <th>3</th>\n",
              "      <td>How long can you stand on one foot? The answer...</td>\n",
              "      <td>Other</td>\n",
              "    </tr>\n",
              "    <tr>\n",
              "      <th>4</th>\n",
              "      <td>Maps and charts: Tracking the early votes in k...</td>\n",
              "      <td>Politics</td>\n",
              "    </tr>\n",
              "    <tr>\n",
              "      <th>5</th>\n",
              "      <td>Apple Releases First Betas of iOS 18.2 and Mor...</td>\n",
              "      <td>Technology</td>\n",
              "    </tr>\n",
              "    <tr>\n",
              "      <th>6</th>\n",
              "      <td>Apple and Goldman Sachs fined millions for mis...</td>\n",
              "      <td>Technology</td>\n",
              "    </tr>\n",
              "    <tr>\n",
              "      <th>7</th>\n",
              "      <td>Chinese influence operation targets US down ba...</td>\n",
              "      <td>Other</td>\n",
              "    </tr>\n",
              "    <tr>\n",
              "      <th>8</th>\n",
              "      <td>Iranian hacker group focuses on US election we...</td>\n",
              "      <td>Politics</td>\n",
              "    </tr>\n",
              "    <tr>\n",
              "      <th>9</th>\n",
              "      <td>Boeing reports $6 billion quarterly loss as st...</td>\n",
              "      <td>Other</td>\n",
              "    </tr>\n",
              "  </tbody>\n",
              "</table>\n",
              "</div>\n",
              "    <div class=\"colab-df-buttons\">\n",
              "\n",
              "  <div class=\"colab-df-container\">\n",
              "    <button class=\"colab-df-convert\" onclick=\"convertToInteractive('df-8e8abc59-9854-4264-8c2e-c9ebaf37ffe8')\"\n",
              "            title=\"Convert this dataframe to an interactive table.\"\n",
              "            style=\"display:none;\">\n",
              "\n",
              "  <svg xmlns=\"http://www.w3.org/2000/svg\" height=\"24px\" viewBox=\"0 -960 960 960\">\n",
              "    <path d=\"M120-120v-720h720v720H120Zm60-500h600v-160H180v160Zm220 220h160v-160H400v160Zm0 220h160v-160H400v160ZM180-400h160v-160H180v160Zm440 0h160v-160H620v160ZM180-180h160v-160H180v160Zm440 0h160v-160H620v160Z\"/>\n",
              "  </svg>\n",
              "    </button>\n",
              "\n",
              "  <style>\n",
              "    .colab-df-container {\n",
              "      display:flex;\n",
              "      gap: 12px;\n",
              "    }\n",
              "\n",
              "    .colab-df-convert {\n",
              "      background-color: #E8F0FE;\n",
              "      border: none;\n",
              "      border-radius: 50%;\n",
              "      cursor: pointer;\n",
              "      display: none;\n",
              "      fill: #1967D2;\n",
              "      height: 32px;\n",
              "      padding: 0 0 0 0;\n",
              "      width: 32px;\n",
              "    }\n",
              "\n",
              "    .colab-df-convert:hover {\n",
              "      background-color: #E2EBFA;\n",
              "      box-shadow: 0px 1px 2px rgba(60, 64, 67, 0.3), 0px 1px 3px 1px rgba(60, 64, 67, 0.15);\n",
              "      fill: #174EA6;\n",
              "    }\n",
              "\n",
              "    .colab-df-buttons div {\n",
              "      margin-bottom: 4px;\n",
              "    }\n",
              "\n",
              "    [theme=dark] .colab-df-convert {\n",
              "      background-color: #3B4455;\n",
              "      fill: #D2E3FC;\n",
              "    }\n",
              "\n",
              "    [theme=dark] .colab-df-convert:hover {\n",
              "      background-color: #434B5C;\n",
              "      box-shadow: 0px 1px 3px 1px rgba(0, 0, 0, 0.15);\n",
              "      filter: drop-shadow(0px 1px 2px rgba(0, 0, 0, 0.3));\n",
              "      fill: #FFFFFF;\n",
              "    }\n",
              "  </style>\n",
              "\n",
              "    <script>\n",
              "      const buttonEl =\n",
              "        document.querySelector('#df-8e8abc59-9854-4264-8c2e-c9ebaf37ffe8 button.colab-df-convert');\n",
              "      buttonEl.style.display =\n",
              "        google.colab.kernel.accessAllowed ? 'block' : 'none';\n",
              "\n",
              "      async function convertToInteractive(key) {\n",
              "        const element = document.querySelector('#df-8e8abc59-9854-4264-8c2e-c9ebaf37ffe8');\n",
              "        const dataTable =\n",
              "          await google.colab.kernel.invokeFunction('convertToInteractive',\n",
              "                                                    [key], {});\n",
              "        if (!dataTable) return;\n",
              "\n",
              "        const docLinkHtml = 'Like what you see? Visit the ' +\n",
              "          '<a target=\"_blank\" href=https://colab.research.google.com/notebooks/data_table.ipynb>data table notebook</a>'\n",
              "          + ' to learn more about interactive tables.';\n",
              "        element.innerHTML = '';\n",
              "        dataTable['output_type'] = 'display_data';\n",
              "        await google.colab.output.renderOutput(dataTable, element);\n",
              "        const docLink = document.createElement('div');\n",
              "        docLink.innerHTML = docLinkHtml;\n",
              "        element.appendChild(docLink);\n",
              "      }\n",
              "    </script>\n",
              "  </div>\n",
              "\n",
              "\n",
              "<div id=\"df-5e4f92e6-9b7e-44cc-9d61-aedab534d07d\">\n",
              "  <button class=\"colab-df-quickchart\" onclick=\"quickchart('df-5e4f92e6-9b7e-44cc-9d61-aedab534d07d')\"\n",
              "            title=\"Suggest charts\"\n",
              "            style=\"display:none;\">\n",
              "\n",
              "<svg xmlns=\"http://www.w3.org/2000/svg\" height=\"24px\"viewBox=\"0 0 24 24\"\n",
              "     width=\"24px\">\n",
              "    <g>\n",
              "        <path d=\"M19 3H5c-1.1 0-2 .9-2 2v14c0 1.1.9 2 2 2h14c1.1 0 2-.9 2-2V5c0-1.1-.9-2-2-2zM9 17H7v-7h2v7zm4 0h-2V7h2v10zm4 0h-2v-4h2v4z\"/>\n",
              "    </g>\n",
              "</svg>\n",
              "  </button>\n",
              "\n",
              "<style>\n",
              "  .colab-df-quickchart {\n",
              "      --bg-color: #E8F0FE;\n",
              "      --fill-color: #1967D2;\n",
              "      --hover-bg-color: #E2EBFA;\n",
              "      --hover-fill-color: #174EA6;\n",
              "      --disabled-fill-color: #AAA;\n",
              "      --disabled-bg-color: #DDD;\n",
              "  }\n",
              "\n",
              "  [theme=dark] .colab-df-quickchart {\n",
              "      --bg-color: #3B4455;\n",
              "      --fill-color: #D2E3FC;\n",
              "      --hover-bg-color: #434B5C;\n",
              "      --hover-fill-color: #FFFFFF;\n",
              "      --disabled-bg-color: #3B4455;\n",
              "      --disabled-fill-color: #666;\n",
              "  }\n",
              "\n",
              "  .colab-df-quickchart {\n",
              "    background-color: var(--bg-color);\n",
              "    border: none;\n",
              "    border-radius: 50%;\n",
              "    cursor: pointer;\n",
              "    display: none;\n",
              "    fill: var(--fill-color);\n",
              "    height: 32px;\n",
              "    padding: 0;\n",
              "    width: 32px;\n",
              "  }\n",
              "\n",
              "  .colab-df-quickchart:hover {\n",
              "    background-color: var(--hover-bg-color);\n",
              "    box-shadow: 0 1px 2px rgba(60, 64, 67, 0.3), 0 1px 3px 1px rgba(60, 64, 67, 0.15);\n",
              "    fill: var(--button-hover-fill-color);\n",
              "  }\n",
              "\n",
              "  .colab-df-quickchart-complete:disabled,\n",
              "  .colab-df-quickchart-complete:disabled:hover {\n",
              "    background-color: var(--disabled-bg-color);\n",
              "    fill: var(--disabled-fill-color);\n",
              "    box-shadow: none;\n",
              "  }\n",
              "\n",
              "  .colab-df-spinner {\n",
              "    border: 2px solid var(--fill-color);\n",
              "    border-color: transparent;\n",
              "    border-bottom-color: var(--fill-color);\n",
              "    animation:\n",
              "      spin 1s steps(1) infinite;\n",
              "  }\n",
              "\n",
              "  @keyframes spin {\n",
              "    0% {\n",
              "      border-color: transparent;\n",
              "      border-bottom-color: var(--fill-color);\n",
              "      border-left-color: var(--fill-color);\n",
              "    }\n",
              "    20% {\n",
              "      border-color: transparent;\n",
              "      border-left-color: var(--fill-color);\n",
              "      border-top-color: var(--fill-color);\n",
              "    }\n",
              "    30% {\n",
              "      border-color: transparent;\n",
              "      border-left-color: var(--fill-color);\n",
              "      border-top-color: var(--fill-color);\n",
              "      border-right-color: var(--fill-color);\n",
              "    }\n",
              "    40% {\n",
              "      border-color: transparent;\n",
              "      border-right-color: var(--fill-color);\n",
              "      border-top-color: var(--fill-color);\n",
              "    }\n",
              "    60% {\n",
              "      border-color: transparent;\n",
              "      border-right-color: var(--fill-color);\n",
              "    }\n",
              "    80% {\n",
              "      border-color: transparent;\n",
              "      border-right-color: var(--fill-color);\n",
              "      border-bottom-color: var(--fill-color);\n",
              "    }\n",
              "    90% {\n",
              "      border-color: transparent;\n",
              "      border-bottom-color: var(--fill-color);\n",
              "    }\n",
              "  }\n",
              "</style>\n",
              "\n",
              "  <script>\n",
              "    async function quickchart(key) {\n",
              "      const quickchartButtonEl =\n",
              "        document.querySelector('#' + key + ' button');\n",
              "      quickchartButtonEl.disabled = true;  // To prevent multiple clicks.\n",
              "      quickchartButtonEl.classList.add('colab-df-spinner');\n",
              "      try {\n",
              "        const charts = await google.colab.kernel.invokeFunction(\n",
              "            'suggestCharts', [key], {});\n",
              "      } catch (error) {\n",
              "        console.error('Error during call to suggestCharts:', error);\n",
              "      }\n",
              "      quickchartButtonEl.classList.remove('colab-df-spinner');\n",
              "      quickchartButtonEl.classList.add('colab-df-quickchart-complete');\n",
              "    }\n",
              "    (() => {\n",
              "      let quickchartButtonEl =\n",
              "        document.querySelector('#df-5e4f92e6-9b7e-44cc-9d61-aedab534d07d button');\n",
              "      quickchartButtonEl.style.display =\n",
              "        google.colab.kernel.accessAllowed ? 'block' : 'none';\n",
              "    })();\n",
              "  </script>\n",
              "</div>\n",
              "\n",
              "    </div>\n",
              "  </div>\n"
            ],
            "application/vnd.google.colaboratory.intrinsic+json": {
              "type": "dataframe",
              "variable_name": "df",
              "summary": "{\n  \"name\": \"df\",\n  \"rows\": 20,\n  \"fields\": [\n    {\n      \"column\": \"headline\",\n      \"properties\": {\n        \"dtype\": \"string\",\n        \"num_unique_values\": 20,\n        \"samples\": [\n          \"Stock market today: Nasdaq leads stocks lower as Wall Street braces for Tesla earnings - Yahoo Finance\",\n          \"Apple\\u2019s reportedly slowing down Vision Pro production, for now - The Verge\",\n          \"China\\u2019s Xi and India\\u2019s Modi meet after border accord between two countries - Al Jazeera English\"\n        ],\n        \"semantic_type\": \"\",\n        \"description\": \"\"\n      }\n    },\n    {\n      \"column\": \"category\",\n      \"properties\": {\n        \"dtype\": \"category\",\n        \"num_unique_values\": 4,\n        \"samples\": [\n          \"Politics\",\n          \"Sports\",\n          \"Other\"\n        ],\n        \"semantic_type\": \"\",\n        \"description\": \"\"\n      }\n    }\n  ]\n}"
            }
          },
          "metadata": {},
          "execution_count": 12
        }
      ]
    },
    {
      "cell_type": "code",
      "source": [
        "# Load the CSV file\n",
        "data = spark.read.csv(\"news_headlines.csv\", header=True, inferSchema=True)\n",
        "\n",
        "# Check schema and sample data\n",
        "data.printSchema()\n",
        "data.show(10)\n"
      ],
      "metadata": {
        "colab": {
          "base_uri": "https://localhost:8080/"
        },
        "id": "R3_35SXfB0dy",
        "outputId": "613b0df1-62df-4d31-e451-6f0f60596353"
      },
      "execution_count": 13,
      "outputs": [
        {
          "output_type": "stream",
          "name": "stdout",
          "text": [
            "root\n",
            " |-- headline: string (nullable = true)\n",
            " |-- category: string (nullable = true)\n",
            "\n",
            "+--------------------+----------+\n",
            "|            headline|  category|\n",
            "+--------------------+----------+\n",
            "|Stock market toda...|     Other|\n",
            "|NFL Fantasy 2024 ...|     Other|\n",
            "|Four killed, 14 i...|     Other|\n",
            "|How long can you ...|     Other|\n",
            "|Maps and charts: ...|  Politics|\n",
            "|Apple Releases Fi...|Technology|\n",
            "|Apple and Goldman...|Technology|\n",
            "|Chinese influence...|     Other|\n",
            "|Iranian hacker gr...|  Politics|\n",
            "|Boeing reports $6...|     Other|\n",
            "+--------------------+----------+\n",
            "only showing top 10 rows\n",
            "\n"
          ]
        }
      ]
    },
    {
      "cell_type": "code",
      "source": [
        "# Lowercasing the headlines\n",
        "data = data.withColumn(\"headline\", F.lower(data.headline))\n",
        "# Check schema and sample data\n",
        "data.printSchema()\n",
        "data.show(10)"
      ],
      "metadata": {
        "colab": {
          "base_uri": "https://localhost:8080/"
        },
        "id": "9uz-KfyNEJU_",
        "outputId": "6376702f-f836-4a64-8184-42bdf28c0fad"
      },
      "execution_count": 14,
      "outputs": [
        {
          "output_type": "stream",
          "name": "stdout",
          "text": [
            "root\n",
            " |-- headline: string (nullable = true)\n",
            " |-- category: string (nullable = true)\n",
            "\n",
            "+--------------------+----------+\n",
            "|            headline|  category|\n",
            "+--------------------+----------+\n",
            "|stock market toda...|     Other|\n",
            "|nfl fantasy 2024 ...|     Other|\n",
            "|four killed, 14 i...|     Other|\n",
            "|how long can you ...|     Other|\n",
            "|maps and charts: ...|  Politics|\n",
            "|apple releases fi...|Technology|\n",
            "|apple and goldman...|Technology|\n",
            "|chinese influence...|     Other|\n",
            "|iranian hacker gr...|  Politics|\n",
            "|boeing reports $6...|     Other|\n",
            "+--------------------+----------+\n",
            "only showing top 10 rows\n",
            "\n"
          ]
        }
      ]
    },
    {
      "cell_type": "code",
      "source": [
        "# Tokenization\n",
        "tokenizer = Tokenizer(inputCol=\"headline\", outputCol=\"words\")\n",
        "stopwords_remover = StopWordsRemover(inputCol=\"words\", outputCol=\"filtered\")\n",
        "\n",
        "# Create a pipeline for transformations\n",
        "pipeline = Pipeline(stages=[tokenizer, stopwords_remover])\n",
        "\n",
        "# Fit the pipeline to the data\n",
        "model = pipeline.fit(data)\n",
        "processed_data = model.transform(data)\n",
        "\n",
        "# Show the processed data\n",
        "processed_data.select(\"headline\", \"filtered\").show(10, truncate=False)"
      ],
      "metadata": {
        "colab": {
          "base_uri": "https://localhost:8080/"
        },
        "id": "4vNNVUm3KKy3",
        "outputId": "31a320f2-00b9-4425-8e32-79380079cbaf"
      },
      "execution_count": 15,
      "outputs": [
        {
          "output_type": "stream",
          "name": "stdout",
          "text": [
            "+-------------------------------------------------------------------------------------------------------------------------+--------------------------------------------------------------------------------------------------------------------------------+\n",
            "|headline                                                                                                                 |filtered                                                                                                                        |\n",
            "+-------------------------------------------------------------------------------------------------------------------------+--------------------------------------------------------------------------------------------------------------------------------+\n",
            "|stock market today: nasdaq leads stocks lower as wall street braces for tesla earnings - yahoo finance                   |[stock, market, today:, nasdaq, leads, stocks, lower, wall, street, braces, tesla, earnings, -, yahoo, finance]                 |\n",
            "|nfl fantasy 2024 start 'em, sit 'em: quarterbacks for week 8 - nfl.com                                                   |[nfl, fantasy, 2024, start, 'em,, sit, 'em:, quarterbacks, week, 8, -, nfl.com]                                                 |\n",
            "|four killed, 14 injured in terror attack on turkish aerospace company - cnn                                              |[four, killed,, 14, injured, terror, attack, turkish, aerospace, company, -, cnn]                                               |\n",
            "|how long can you stand on one foot? the answer may predict your fall risk. - the washington post                         |[long, stand, one, foot?, answer, may, predict, fall, risk., -, washington, post]                                               |\n",
            "|maps and charts: tracking the early votes in key states and how it compares to 2020 | cnn politics - cnn                 |[maps, charts:, tracking, early, votes, key, states, compares, 2020, |, cnn, politics, -, cnn]                                  |\n",
            "|apple releases first betas of ios 18.2 and more with genmoji, image playground and chatgpt integration - macrumors       |[apple, releases, first, betas, ios, 18.2, genmoji,, image, playground, chatgpt, integration, -, macrumors]                     |\n",
            "|apple and goldman sachs fined millions for misleading apple card holders - the verge                                     |[apple, goldman, sachs, fined, millions, misleading, apple, card, holders, -, verge]                                            |\n",
            "|chinese influence operation targets us down ballot races, microsoft says - reuters                                       |[chinese, influence, operation, targets, us, ballot, races,, microsoft, says, -, reuters]                                       |\n",
            "|iranian hacker group focuses on us election websites, media, ahead of vote, microsoft says - reuters                     |[iranian, hacker, group, focuses, us, election, websites,, media,, ahead, vote,, microsoft, says, -, reuters]                   |\n",
            "|boeing reports $6 billion quarterly loss as striking workers vote whether to accept contract offer - the associated press|[boeing, reports, $6, billion, quarterly, loss, striking, workers, vote, whether, accept, contract, offer, -, associated, press]|\n",
            "+-------------------------------------------------------------------------------------------------------------------------+--------------------------------------------------------------------------------------------------------------------------------+\n",
            "only showing top 10 rows\n",
            "\n"
          ]
        }
      ]
    },
    {
      "cell_type": "code",
      "source": [
        "# Feature Extraction using TF-IDF\n",
        "hashingTF = HashingTF(inputCol=\"filtered\", outputCol=\"rawFeatures\", numFeatures=20)\n",
        "featurized_data = hashingTF.transform(processed_data)\n",
        "\n",
        "# Inverse Document Frequency\n",
        "idf = IDF(inputCol=\"rawFeatures\", outputCol=\"features\")\n",
        "idf_model = idf.fit(featurized_data)\n",
        "tfidf_data = idf_model.transform(featurized_data)\n",
        "\n",
        "# Show the features\n",
        "tfidf_data.select(\"headline\", \"features\").show(10, truncate=False)"
      ],
      "metadata": {
        "colab": {
          "base_uri": "https://localhost:8080/"
        },
        "id": "EAjinYGAKen9",
        "outputId": "d975ea7f-7daf-447c-ba84-4b16b37c2dbe"
      },
      "execution_count": 16,
      "outputs": [
        {
          "output_type": "stream",
          "name": "stdout",
          "text": [
            "+-------------------------------------------------------------------------------------------------------------------------+--------------------------------------------------------------------------------------------------------------------------------------------------------------------------------------------------------------------------------------------------------+\n",
            "|headline                                                                                                                 |features                                                                                                                                                                                                                                                |\n",
            "+-------------------------------------------------------------------------------------------------------------------------+--------------------------------------------------------------------------------------------------------------------------------------------------------------------------------------------------------------------------------------------------------+\n",
            "|stock market today: nasdaq leads stocks lower as wall street braces for tesla earnings - yahoo finance                   |(20,[2,4,5,7,11,12,13,16,17,19],[1.1192315758708453,1.4838746894587547,0.8472978603872037,1.9398814947751575,0.5596157879354227,0.0,0.5596157879354227,0.965080896043587,0.8472978603872037,0.8472978603872037])                                        |\n",
            "|nfl fantasy 2024 start 'em, sit 'em: quarterbacks for week 8 - nfl.com                                                   |(20,[2,3,6,9,10,12,14,15,16,19],[0.5596157879354227,1.252762968495368,1.9398814947751575,1.252762968495368,1.0986122886681098,0.0,0.8472978603872037,0.965080896043587,0.965080896043587,0.8472978603872037])                                           |\n",
            "|four killed, 14 injured in terror attack on turkish aerospace company - cnn                                              |(20,[0,1,2,3,5,7,12,13],[0.7419373447293773,1.6945957207744073,1.1192315758708453,1.252762968495368,0.8472978603872037,0.6466271649250525,0.0,1.1192315758708453])                                                                                      |\n",
            "|how long can you stand on one foot? the answer may predict your fall risk. - the washington post                         |(20,[0,4,6,9,11,12,13,15,17,18,19],[0.7419373447293773,0.7419373447293773,0.6466271649250525,1.252762968495368,0.5596157879354227,0.0,0.5596157879354227,0.965080896043587,0.8472978603872037,0.5596157879354227,0.8472978603872037])                   |\n",
            "|maps and charts: tracking the early votes in key states and how it compares to 2020 | cnn politics - cnn                 |(20,[0,1,4,5,6,7,10,11,12],[1.4838746894587547,1.6945957207744073,0.7419373447293773,0.8472978603872037,0.6466271649250525,0.6466271649250525,2.1972245773362196,0.5596157879354227,0.0])                                                               |\n",
            "|apple releases first betas of ios 18.2 and more with genmoji, image playground and chatgpt integration - macrumors       |(20,[3,4,6,10,11,12,13,17,19],[2.505525936990736,1.4838746894587547,0.6466271649250525,1.0986122886681098,0.5596157879354227,0.0,1.678847363806268,0.8472978603872037,0.8472978603872037])                                                              |\n",
            "|apple and goldman sachs fined millions for misleading apple card holders - the verge                                     |(20,[2,4,5,7,12,13,14,17,18],[1.1192315758708453,0.7419373447293773,0.8472978603872037,0.6466271649250525,0.0,1.1192315758708453,0.8472978603872037,0.8472978603872037,0.5596157879354227])                                                             |\n",
            "|chinese influence operation targets us down ballot races, microsoft says - reuters                                       |(20,[0,2,10,11,12,14,17,18,19],[0.7419373447293773,0.5596157879354227,1.0986122886681098,0.5596157879354227,0.0,0.8472978603872037,0.8472978603872037,1.678847363806268,0.8472978603872037])                                                            |\n",
            "|iranian hacker group focuses on us election websites, media, ahead of vote, microsoft says - reuters                     |(20,[0,1,6,8,10,12,13,18],[1.4838746894587547,0.8472978603872037,0.6466271649250525,3.295836866004329,1.0986122886681098,0.0,0.5596157879354227,1.678847363806268])                                                                                     |\n",
            "|boeing reports $6 billion quarterly loss as striking workers vote whether to accept contract offer - the associated press|(20,[0,1,4,5,6,8,9,11,12,14,17,18],[0.7419373447293773,0.8472978603872037,0.7419373447293773,0.8472978603872037,0.6466271649250525,1.0986122886681098,2.505525936990736,0.5596157879354227,0.0,0.8472978603872037,0.8472978603872037,1.678847363806268])|\n",
            "+-------------------------------------------------------------------------------------------------------------------------+--------------------------------------------------------------------------------------------------------------------------------------------------------------------------------------------------------------------------------------------------------+\n",
            "only showing top 10 rows\n",
            "\n"
          ]
        }
      ]
    },
    {
      "cell_type": "code",
      "source": [
        "# Encode the labels (categories)\n",
        "from pyspark.ml.feature import StringIndexer\n",
        "\n",
        "indexer = StringIndexer(inputCol=\"category\", outputCol=\"label\")\n",
        "tfidf_data = indexer.fit(tfidf_data).transform(tfidf_data)\n"
      ],
      "metadata": {
        "id": "T_AUJhXpK9p5"
      },
      "execution_count": 17,
      "outputs": []
    },
    {
      "cell_type": "code",
      "source": [
        "# Train-Test Split\n",
        "train_data, test_data = tfidf_data.randomSplit([0.8, 0.2], seed=1234)\n",
        "\n",
        "# Initialize Logistic Regression\n",
        "lr = LogisticRegression(featuresCol='features', labelCol='label', maxIter=10)\n",
        "\n",
        "# Fit the model\n",
        "lr_model = lr.fit(train_data)\n",
        "\n",
        "# Predictions\n",
        "predictions = lr_model.transform(test_data)\n",
        "\n",
        "# Evaluate the model\n",
        "evaluator = MulticlassClassificationEvaluator(labelCol=\"label\", predictionCol=\"prediction\", metricName=\"accuracy\")\n",
        "accuracy = evaluator.evaluate(predictions)\n",
        "\n",
        "print(f\"Test Accuracy: {accuracy:.2f}\")\n",
        "\n",
        "# Show some predictions\n",
        "predictions.select(\"headline\", \"category\", \"prediction\").show(10, truncate=False)"
      ],
      "metadata": {
        "colab": {
          "base_uri": "https://localhost:8080/"
        },
        "id": "94c4zqutLNVQ",
        "outputId": "c9d33de4-e559-4935-cb8c-55127360da38"
      },
      "execution_count": 19,
      "outputs": [
        {
          "output_type": "stream",
          "name": "stdout",
          "text": [
            "Test Accuracy: 0.00\n",
            "+------------------------------------------------------------------------------------+----------+----------+\n",
            "|headline                                                                            |category  |prediction|\n",
            "+------------------------------------------------------------------------------------+----------+----------+\n",
            "|apple and goldman sachs fined millions for misleading apple card holders - the verge|Technology|0.0       |\n",
            "|apple’s reportedly slowing down vision pro production, for now - the verge          |Technology|0.0       |\n",
            "+------------------------------------------------------------------------------------+----------+----------+\n",
            "\n"
          ]
        }
      ]
    },
    {
      "cell_type": "markdown",
      "source": [],
      "metadata": {
        "id": "8MVdnb3kCMfo"
      }
    },
    {
      "cell_type": "markdown",
      "source": [
        "## News Headline Categorization using Classificatin in PySpark\n",
        "This document provides a step-by-step overview of the process to categorize news headlines using Apache Spark in Google Colab.\n",
        "\n",
        "Step 1: Initialize Spark Session\n",
        "Start by initializing a Spark session. This is necessary to work with Spark DataFrames and perform data processing tasks.\n",
        "\n",
        "Step 2: Load Data\n",
        "Read the CSV file containing news headlines and their corresponding categories into a Spark DataFrame. This DataFrame serves as the main dataset for processing.\n",
        "\n",
        "Step 3: Check Data Schema and Sample Data\n",
        "Inspect the schema and display the first few rows of the DataFrame to understand its structure. This ensures that the columns are correctly identified and the data is in the expected format.\n",
        "\n",
        "Step 4: Lowercase Headlines\n",
        "Convert all headlines to lowercase to ensure uniformity. This helps reduce variations in text when analyzing or processing the data.\n",
        "\n",
        "Step 5: Tokenization\n",
        "Split the headlines into individual words (tokens). This is crucial for text analysis, as it breaks the text into manageable parts.\n",
        "\n",
        "Step 6: Remove Stop Words\n",
        "Filter out common stop words (like \"and,\" \"the,\" etc.) from the list of tokens. Stop words typically do not carry significant meaning and can be removed to enhance the quality of the analysis.\n",
        "\n",
        "Step 7: Create a Pipeline\n",
        "Set up a processing pipeline that includes both the tokenization and stop words removal steps. This pipeline allows for a streamlined transformation of the data.\n",
        "\n",
        "Step 8: Fit the Pipeline\n",
        "Apply the pipeline to the DataFrame to execute the transformations. This results in a new DataFrame that contains the processed text data (tokens without stop words).\n",
        "\n",
        "Step 9: Feature Extraction using TF-IDF\n",
        "Use the Term Frequency-Inverse Document Frequency (TF-IDF) method to convert the text data into numerical feature vectors. This helps quantify the importance of words in relation to the entire dataset, enabling machine learning algorithms to interpret the text.\n",
        "\n",
        "Step 10: Show Features\n",
        "Display the processed feature vectors alongside the original headlines for verification and understanding of how the text has been transformed into numerical data.\n",
        "\n",
        "Step 11: Encode Labels\n",
        "Convert the categorical labels (news categories) into numerical format using a StringIndexer. This step is essential for machine learning models, which require numerical input for both features and labels.\n",
        "\n",
        "Step 12: Train-Test Split\n",
        "Split the dataset into training and testing sets. The training set will be used to train the classification model, while the testing set will be reserved for evaluating the model’s performance.\n",
        "\n",
        "Step 13: Model Training\n",
        "Proceed to train a classification model (e.g., **Logistic Regression** and **Random Forest**) using the training data. This step is crucial for learning to categorize the headlines.\n",
        "\n",
        "Step 14: Evaluation\n",
        "After training, evaluate the model’s performance on the test data to understand its accuracy and effectiveness in categorizing news headlines."
      ],
      "metadata": {
        "id": "qOFZc7QbMZfk"
      }
    },
    {
      "cell_type": "markdown",
      "source": [
        "### LogisticRegression"
      ],
      "metadata": {
        "id": "Rma14U69B4JP"
      }
    },
    {
      "cell_type": "code",
      "source": [
        "from pyspark.sql import SparkSession\n",
        "from pyspark.sql import functions as F\n",
        "from pyspark.ml.feature import Tokenizer, StopWordsRemover, HashingTF, IDF\n",
        "from pyspark.ml import Pipeline\n",
        "from pyspark.ml.classification import LogisticRegression\n",
        "from pyspark.ml.evaluation import MulticlassClassificationEvaluator\n",
        "\n",
        "# Initialize Spark Session (if not already done)\n",
        "spark = SparkSession.builder.appName(\"NewsCategory\").getOrCreate()\n",
        "\n",
        "# Load the CSV file\n",
        "data = spark.read.csv(\"news_headlines.csv\", header=True, inferSchema=True)\n",
        "\n",
        "# Check schema and sample data\n",
        "data.printSchema()\n",
        "data.show(10)\n",
        "\n",
        "# Lowercasing the headlines\n",
        "data = data.withColumn(\"headline\", F.lower(data.headline))\n",
        "\n",
        "# Tokenization\n",
        "tokenizer = Tokenizer(inputCol=\"headline\", outputCol=\"words\")\n",
        "stopwords_remover = StopWordsRemover(inputCol=\"words\", outputCol=\"filtered\")\n",
        "\n",
        "# Create a pipeline for transformations\n",
        "pipeline = Pipeline(stages=[tokenizer, stopwords_remover])\n",
        "\n",
        "# Fit the pipeline to the data\n",
        "model = pipeline.fit(data)\n",
        "processed_data = model.transform(data)\n",
        "\n",
        "# Show the processed data\n",
        "processed_data.select(\"headline\", \"filtered\").show(10, truncate=False)\n",
        "\n",
        "# Feature Extraction using TF-IDF\n",
        "hashingTF = HashingTF(inputCol=\"filtered\", outputCol=\"rawFeatures\", numFeatures=20)\n",
        "featurized_data = hashingTF.transform(processed_data)\n",
        "\n",
        "# Inverse Document Frequency\n",
        "idf = IDF(inputCol=\"rawFeatures\", outputCol=\"features\")\n",
        "idf_model = idf.fit(featurized_data)\n",
        "tfidf_data = idf_model.transform(featurized_data)\n",
        "\n",
        "# Show the features\n",
        "tfidf_data.select(\"headline\", \"features\").show(10, truncate=False)\n",
        "\n",
        "# Encode the labels (categories)\n",
        "from pyspark.ml.feature import StringIndexer\n",
        "\n",
        "indexer = StringIndexer(inputCol=\"category\", outputCol=\"label\")\n",
        "tfidf_data = indexer.fit(tfidf_data).transform(tfidf_data)\n",
        "\n",
        "# Train-Test Split\n",
        "train_data, test_data = tfidf_data.randomSplit([0.8, 0.2], seed=1234)\n",
        "\n",
        "# Initialize Logistic Regression\n",
        "lr = LogisticRegression(featuresCol='features', labelCol='label', maxIter=10)\n",
        "\n",
        "# Fit the model\n",
        "lr_model = lr.fit(train_data)\n",
        "\n",
        "# Predictions\n",
        "predictions = lr_model.transform(test_data)\n",
        "\n",
        "# Evaluate the model\n",
        "evaluator = MulticlassClassificationEvaluator(labelCol=\"label\", predictionCol=\"prediction\", metricName=\"accuracy\")\n",
        "accuracy = evaluator.evaluate(predictions)\n",
        "\n",
        "print(f\"Test Accuracy: {accuracy:.2f}\")\n",
        "\n",
        "# Show some predictions\n",
        "predictions.select(\"headline\", \"category\", \"prediction\").show(10, truncate=False)"
      ],
      "metadata": {
        "colab": {
          "base_uri": "https://localhost:8080/"
        },
        "id": "oNPnecra6Zl3",
        "outputId": "6c570a17-55dd-4d8d-dcaa-6fa40b0056e5"
      },
      "execution_count": 25,
      "outputs": [
        {
          "output_type": "stream",
          "name": "stdout",
          "text": [
            "root\n",
            " |-- headline: string (nullable = true)\n",
            " |-- category: string (nullable = true)\n",
            "\n",
            "+--------------------+----------+\n",
            "|            headline|  category|\n",
            "+--------------------+----------+\n",
            "|Stock market toda...|     Other|\n",
            "|NFL Fantasy 2024 ...|     Other|\n",
            "|Four killed, 14 i...|     Other|\n",
            "|How long can you ...|     Other|\n",
            "|Maps and charts: ...|  Politics|\n",
            "|Apple Releases Fi...|Technology|\n",
            "|Apple and Goldman...|Technology|\n",
            "|Chinese influence...|     Other|\n",
            "|Iranian hacker gr...|  Politics|\n",
            "|Boeing reports $6...|     Other|\n",
            "+--------------------+----------+\n",
            "only showing top 10 rows\n",
            "\n",
            "+-------------------------------------------------------------------------------------------------------------------------+--------------------------------------------------------------------------------------------------------------------------------+\n",
            "|headline                                                                                                                 |filtered                                                                                                                        |\n",
            "+-------------------------------------------------------------------------------------------------------------------------+--------------------------------------------------------------------------------------------------------------------------------+\n",
            "|stock market today: nasdaq leads stocks lower as wall street braces for tesla earnings - yahoo finance                   |[stock, market, today:, nasdaq, leads, stocks, lower, wall, street, braces, tesla, earnings, -, yahoo, finance]                 |\n",
            "|nfl fantasy 2024 start 'em, sit 'em: quarterbacks for week 8 - nfl.com                                                   |[nfl, fantasy, 2024, start, 'em,, sit, 'em:, quarterbacks, week, 8, -, nfl.com]                                                 |\n",
            "|four killed, 14 injured in terror attack on turkish aerospace company - cnn                                              |[four, killed,, 14, injured, terror, attack, turkish, aerospace, company, -, cnn]                                               |\n",
            "|how long can you stand on one foot? the answer may predict your fall risk. - the washington post                         |[long, stand, one, foot?, answer, may, predict, fall, risk., -, washington, post]                                               |\n",
            "|maps and charts: tracking the early votes in key states and how it compares to 2020 | cnn politics - cnn                 |[maps, charts:, tracking, early, votes, key, states, compares, 2020, |, cnn, politics, -, cnn]                                  |\n",
            "|apple releases first betas of ios 18.2 and more with genmoji, image playground and chatgpt integration - macrumors       |[apple, releases, first, betas, ios, 18.2, genmoji,, image, playground, chatgpt, integration, -, macrumors]                     |\n",
            "|apple and goldman sachs fined millions for misleading apple card holders - the verge                                     |[apple, goldman, sachs, fined, millions, misleading, apple, card, holders, -, verge]                                            |\n",
            "|chinese influence operation targets us down ballot races, microsoft says - reuters                                       |[chinese, influence, operation, targets, us, ballot, races,, microsoft, says, -, reuters]                                       |\n",
            "|iranian hacker group focuses on us election websites, media, ahead of vote, microsoft says - reuters                     |[iranian, hacker, group, focuses, us, election, websites,, media,, ahead, vote,, microsoft, says, -, reuters]                   |\n",
            "|boeing reports $6 billion quarterly loss as striking workers vote whether to accept contract offer - the associated press|[boeing, reports, $6, billion, quarterly, loss, striking, workers, vote, whether, accept, contract, offer, -, associated, press]|\n",
            "+-------------------------------------------------------------------------------------------------------------------------+--------------------------------------------------------------------------------------------------------------------------------+\n",
            "only showing top 10 rows\n",
            "\n",
            "+-------------------------------------------------------------------------------------------------------------------------+--------------------------------------------------------------------------------------------------------------------------------------------------------------------------------------------------------------------------------------------------------+\n",
            "|headline                                                                                                                 |features                                                                                                                                                                                                                                                |\n",
            "+-------------------------------------------------------------------------------------------------------------------------+--------------------------------------------------------------------------------------------------------------------------------------------------------------------------------------------------------------------------------------------------------+\n",
            "|stock market today: nasdaq leads stocks lower as wall street braces for tesla earnings - yahoo finance                   |(20,[2,4,5,7,11,12,13,16,17,19],[1.1192315758708453,1.4838746894587547,0.8472978603872037,1.9398814947751575,0.5596157879354227,0.0,0.5596157879354227,0.965080896043587,0.8472978603872037,0.8472978603872037])                                        |\n",
            "|nfl fantasy 2024 start 'em, sit 'em: quarterbacks for week 8 - nfl.com                                                   |(20,[2,3,6,9,10,12,14,15,16,19],[0.5596157879354227,1.252762968495368,1.9398814947751575,1.252762968495368,1.0986122886681098,0.0,0.8472978603872037,0.965080896043587,0.965080896043587,0.8472978603872037])                                           |\n",
            "|four killed, 14 injured in terror attack on turkish aerospace company - cnn                                              |(20,[0,1,2,3,5,7,12,13],[0.7419373447293773,1.6945957207744073,1.1192315758708453,1.252762968495368,0.8472978603872037,0.6466271649250525,0.0,1.1192315758708453])                                                                                      |\n",
            "|how long can you stand on one foot? the answer may predict your fall risk. - the washington post                         |(20,[0,4,6,9,11,12,13,15,17,18,19],[0.7419373447293773,0.7419373447293773,0.6466271649250525,1.252762968495368,0.5596157879354227,0.0,0.5596157879354227,0.965080896043587,0.8472978603872037,0.5596157879354227,0.8472978603872037])                   |\n",
            "|maps and charts: tracking the early votes in key states and how it compares to 2020 | cnn politics - cnn                 |(20,[0,1,4,5,6,7,10,11,12],[1.4838746894587547,1.6945957207744073,0.7419373447293773,0.8472978603872037,0.6466271649250525,0.6466271649250525,2.1972245773362196,0.5596157879354227,0.0])                                                               |\n",
            "|apple releases first betas of ios 18.2 and more with genmoji, image playground and chatgpt integration - macrumors       |(20,[3,4,6,10,11,12,13,17,19],[2.505525936990736,1.4838746894587547,0.6466271649250525,1.0986122886681098,0.5596157879354227,0.0,1.678847363806268,0.8472978603872037,0.8472978603872037])                                                              |\n",
            "|apple and goldman sachs fined millions for misleading apple card holders - the verge                                     |(20,[2,4,5,7,12,13,14,17,18],[1.1192315758708453,0.7419373447293773,0.8472978603872037,0.6466271649250525,0.0,1.1192315758708453,0.8472978603872037,0.8472978603872037,0.5596157879354227])                                                             |\n",
            "|chinese influence operation targets us down ballot races, microsoft says - reuters                                       |(20,[0,2,10,11,12,14,17,18,19],[0.7419373447293773,0.5596157879354227,1.0986122886681098,0.5596157879354227,0.0,0.8472978603872037,0.8472978603872037,1.678847363806268,0.8472978603872037])                                                            |\n",
            "|iranian hacker group focuses on us election websites, media, ahead of vote, microsoft says - reuters                     |(20,[0,1,6,8,10,12,13,18],[1.4838746894587547,0.8472978603872037,0.6466271649250525,3.295836866004329,1.0986122886681098,0.0,0.5596157879354227,1.678847363806268])                                                                                     |\n",
            "|boeing reports $6 billion quarterly loss as striking workers vote whether to accept contract offer - the associated press|(20,[0,1,4,5,6,8,9,11,12,14,17,18],[0.7419373447293773,0.8472978603872037,0.7419373447293773,0.8472978603872037,0.6466271649250525,1.0986122886681098,2.505525936990736,0.5596157879354227,0.0,0.8472978603872037,0.8472978603872037,1.678847363806268])|\n",
            "+-------------------------------------------------------------------------------------------------------------------------+--------------------------------------------------------------------------------------------------------------------------------------------------------------------------------------------------------------------------------------------------------+\n",
            "only showing top 10 rows\n",
            "\n",
            "Test Accuracy: 0.00\n",
            "+------------------------------------------------------------------------------------+----------+----------+\n",
            "|headline                                                                            |category  |prediction|\n",
            "+------------------------------------------------------------------------------------+----------+----------+\n",
            "|apple and goldman sachs fined millions for misleading apple card holders - the verge|Technology|0.0       |\n",
            "|apple’s reportedly slowing down vision pro production, for now - the verge          |Technology|0.0       |\n",
            "+------------------------------------------------------------------------------------+----------+----------+\n",
            "\n"
          ]
        }
      ]
    },
    {
      "cell_type": "markdown",
      "source": [
        "## RandomForestClassifier"
      ],
      "metadata": {
        "id": "LyGOoMOFBrss"
      }
    },
    {
      "cell_type": "code",
      "source": [
        "from pyspark.sql import SparkSession\n",
        "from pyspark.ml.feature import CountVectorizer, StringIndexer, RegexTokenizer, StopWordsRemover\n",
        "from pyspark.ml import Pipeline\n",
        "from pyspark.ml.classification import RandomForestClassifier\n",
        "from pyspark.ml.evaluation import MulticlassClassificationEvaluator\n",
        "\n",
        "\n",
        "# Assuming df is your DataFrame with 'headline' and 'category'\n",
        "#df = df.withColumnRenamed(\"headline\", \"text\").withColumnRenamed(\"category\", \"label\")\n",
        "\n",
        "# Initialize Spark Session (if not already done)\n",
        "spark = SparkSession.builder.appName(\"NewsClassification\").getOrCreate()\n",
        "\n",
        "# Load the CSV file\n",
        "data = spark.read.csv(\"news_headlines.csv\", header=True, inferSchema=True)\n",
        "\n",
        "# Check schema and sample data\n",
        "data.printSchema()\n",
        "data.show(10)\n",
        "\n",
        "# Assuming df is your DataFrame with 'headline' and 'category'\n",
        "df = data.withColumnRenamed(\"headline\", \"text\").withColumnRenamed(\"category\", \"label\")\n",
        "\n",
        "# Lowercasing the headlines\n",
        "data = data.withColumn(\"headline\", F.lower(data.headline))\n",
        "\n",
        "# Index labels, adding metadata to the label column\n",
        "indexer = StringIndexer(inputCol=\"label\", outputCol=\"labelIndex\")\n",
        "\n",
        "# Tokenize the text\n",
        "tokenizer = RegexTokenizer(inputCol=\"text\", outputCol=\"words\", pattern=\"\\\\W\")\n",
        "\n",
        "# Remove stop words\n",
        "remover = StopWordsRemover(inputCol=\"words\", outputCol=\"filtered\")\n",
        "\n",
        "# Convert text to numerical features\n",
        "vectorizer = CountVectorizer(inputCol=\"filtered\", outputCol=\"features\")\n",
        "\n",
        "# Initialize Random Forest Classifier\n",
        "rf = RandomForestClassifier(labelCol=\"labelIndex\", featuresCol=\"features\", numTrees=10)\n",
        "\n",
        "# Create a pipeline\n",
        "pipeline = Pipeline(stages=[indexer, tokenizer, remover, vectorizer, rf])\n",
        "\n",
        "# Fit the model\n",
        "model = pipeline.fit(df)\n",
        "\n",
        "# Make predictions\n",
        "predictions = model.transform(df)\n",
        "\n",
        "# Evaluate the model\n",
        "evaluator = MulticlassClassificationEvaluator(labelCol=\"labelIndex\", predictionCol=\"prediction\", metricName=\"accuracy\")\n",
        "accuracy = evaluator.evaluate(predictions)\n",
        "\n",
        "print(f\"Accuracy: {accuracy:.2f}\")\n",
        "\n",
        "# Show some predictions\n",
        "predictions.select(\"text\", \"label\", \"prediction\", \"probability\").show(10, truncate=False)\n"
      ],
      "metadata": {
        "colab": {
          "base_uri": "https://localhost:8080/"
        },
        "id": "tQ7kbgGwScC7",
        "outputId": "71934b97-bddc-4e5f-ebfb-dfdac50843d4"
      },
      "execution_count": 21,
      "outputs": [
        {
          "output_type": "stream",
          "name": "stdout",
          "text": [
            "root\n",
            " |-- headline: string (nullable = true)\n",
            " |-- category: string (nullable = true)\n",
            "\n",
            "+--------------------+----------+\n",
            "|            headline|  category|\n",
            "+--------------------+----------+\n",
            "|Stock market toda...|     Other|\n",
            "|NFL Fantasy 2024 ...|     Other|\n",
            "|Four killed, 14 i...|     Other|\n",
            "|How long can you ...|     Other|\n",
            "|Maps and charts: ...|  Politics|\n",
            "|Apple Releases Fi...|Technology|\n",
            "|Apple and Goldman...|Technology|\n",
            "|Chinese influence...|     Other|\n",
            "|Iranian hacker gr...|  Politics|\n",
            "|Boeing reports $6...|     Other|\n",
            "+--------------------+----------+\n",
            "only showing top 10 rows\n",
            "\n",
            "Accuracy: 0.80\n",
            "+-------------------------------------------------------------------------------------------------------------------------+----------+----------+-------------------------------------------------+\n",
            "|text                                                                                                                     |label     |prediction|probability                                      |\n",
            "+-------------------------------------------------------------------------------------------------------------------------+----------+----------+-------------------------------------------------+\n",
            "|Stock market today: Nasdaq leads stocks lower as Wall Street braces for Tesla earnings - Yahoo Finance                   |Other     |0.0       |[0.9334150326797385,0.06658496732026145,0.0,0.0] |\n",
            "|NFL Fantasy 2024 Start 'Em, Sit 'Em: Quarterbacks for Week 8 - NFL.com                                                   |Other     |0.0       |[0.9334150326797385,0.06658496732026145,0.0,0.0] |\n",
            "|Four killed, 14 injured in terror attack on Turkish aerospace company - CNN                                              |Other     |0.0       |[0.9334150326797385,0.06658496732026145,0.0,0.0] |\n",
            "|How long can you stand on one foot? The answer may predict your fall risk. - The Washington Post                         |Other     |0.0       |[0.9334150326797385,0.06658496732026145,0.0,0.0] |\n",
            "|Maps and charts: Tracking the early votes in key states and how it compares to 2020 | CNN Politics - CNN                 |Politics  |0.0       |[0.5875,0.0125,0.4,0.0]                          |\n",
            "|Apple Releases First Betas of iOS 18.2 and More With Genmoji, Image Playground and ChatGPT Integration - MacRumors       |Technology|0.0       |[0.4584150326797386,0.4415849673202614,0.0,0.1]  |\n",
            "|Apple and Goldman Sachs fined millions for misleading Apple Card holders - The Verge                                     |Technology|1.0       |[0.375,0.525,0.0,0.1]                            |\n",
            "|Chinese influence operation targets US down ballot races, Microsoft says - Reuters                                       |Other     |0.0       |[0.8569444444444445,0.043055555555555555,0.1,0.0]|\n",
            "|Iranian hacker group focuses on US election websites, media, ahead of vote, Microsoft says - Reuters                     |Politics  |0.0       |[0.5944444444444444,0.005555555555555555,0.4,0.0]|\n",
            "|Boeing reports $6 billion quarterly loss as striking workers vote whether to accept contract offer - The Associated Press|Other     |0.0       |[0.9334150326797385,0.06658496732026145,0.0,0.0] |\n",
            "+-------------------------------------------------------------------------------------------------------------------------+----------+----------+-------------------------------------------------+\n",
            "only showing top 10 rows\n",
            "\n"
          ]
        }
      ]
    },
    {
      "cell_type": "markdown",
      "source": [
        "# News Headline Categorization using **Clustering** in PySpark\n",
        "If you want to approach the news headline categorization project using clustering instead of classification, you can use techniques like K-Means clustering. In this mode, the goal is to group similar headlines together without predefined categories. Here’s how to adapt the project for clustering using PySpark.\n",
        "\n",
        "Overview of Clustering News Headlines\n",
        "Data Preparation: Load and preprocess the data (similar to the classification approach).\n",
        "Feature Extraction: Convert the text data into numerical format using techniques like TF-IDF.\n",
        "Clustering: Use a clustering algorithm (e.g., K-Means) to group the headlines based on similarity.\n",
        "Evaluation and Interpretation: Analyze the clusters to understand the topics represented.\n",
        "Step-by-Step Implementation\n",
        "Here’s a step-by-step outline of how to implement the clustering approach:\n",
        "\n",
        "Step 1: Initialize Spark Session\n",
        "Start by initializing a Spark session to work with PySpark.\n",
        "\n",
        "Step 2: Load Data\n",
        "Load the CSV file containing the news headlines into a Spark DataFrame.\n",
        "\n",
        "Step 3: Check Data Schema and Sample Data\n",
        "Inspect the schema and display the first few rows of the DataFrame to understand its structure.\n",
        "\n",
        "Step 4: Lowercase Headlines\n",
        "Convert all headlines to lowercase for consistency.\n",
        "\n",
        "Step 5: Tokenization\n",
        "Split the headlines into individual words (tokens).\n",
        "\n",
        "Step 6: Remove Stop Words\n",
        "Filter out common stop words from the list of tokens.\n",
        "\n",
        "Step 7: Create a Pipeline for Preprocessing\n",
        "Set up a processing pipeline that includes tokenization and stop words removal.\n",
        "\n",
        "Step 8: Fit the Pipeline\n",
        "Apply the pipeline to transform the data into a processed format.\n",
        "\n",
        "Step 9: Feature Extraction using TF-IDF\n",
        "Convert the processed text data into numerical feature vectors using the TF-IDF method.\n",
        "\n",
        "Step 10: **K-Means Clustering**\n",
        "Use the K-Means algorithm to cluster the headlines based on their feature vectors.\n",
        "You will need to decide on the number of clusters (K) based on the nature of your data.\n",
        "\n",
        "Step 11: Analyze Clusters\n",
        "After clustering, you can analyze the resulting clusters to identify common themes or topics.\n",
        "Display a few samples from each cluster to interpret the results.\n",
        "\n",
        "Step 12: Visualization (Optional)\n",
        "You can visualize the clusters using techniques like **t-SNE** or **PCA** to reduce dimensions and plot the data.\n",
        "\n",
        "Sample Code for Clustering\n",
        "Here’s a sample code structure you can follow in Google Colab using PySpark:"
      ],
      "metadata": {
        "id": "3Qr3LM0nPMKZ"
      }
    },
    {
      "cell_type": "code",
      "source": [
        "# Import necessary libraries\n",
        "from pyspark.sql import SparkSession\n",
        "from pyspark.sql import functions as F\n",
        "from pyspark.ml.feature import Tokenizer, StopWordsRemover, HashingTF, IDF\n",
        "from pyspark.ml import Pipeline\n",
        "from pyspark.ml.clustering import KMeans\n",
        "\n",
        "# Step 1: Initialize Spark Session\n",
        "spark = SparkSession.builder.appName(\"NewsClustering\").getOrCreate()\n",
        "\n",
        "# Step 2: Load Data\n",
        "data = spark.read.csv(\"news_headlines.csv\", header=True, inferSchema=True)\n",
        "\n",
        "# Step 3: Check Data Schema\n",
        "data.printSchema()\n",
        "data.show(10)\n",
        "\n",
        "# Step 4: Lowercase Headlines\n",
        "data = data.withColumn(\"headline\", F.lower(data.headline))\n",
        "\n",
        "# Step 5: Tokenization\n",
        "tokenizer = Tokenizer(inputCol=\"headline\", outputCol=\"words\")\n",
        "\n",
        "# Step 6: Remove Stop Words\n",
        "stopwords_remover = StopWordsRemover(inputCol=\"words\", outputCol=\"filtered\")\n",
        "\n",
        "# Step 7: Create a Pipeline\n",
        "pipeline = Pipeline(stages=[tokenizer, stopwords_remover])\n",
        "\n",
        "# Step 8: Fit the Pipeline\n",
        "model = pipeline.fit(data)\n",
        "processed_data = model.transform(data)\n",
        "\n",
        "# Step 9: Feature Extraction using TF-IDF\n",
        "hashingTF = HashingTF(inputCol=\"filtered\", outputCol=\"rawFeatures\", numFeatures=20)\n",
        "featurized_data = hashingTF.transform(processed_data)\n",
        "\n",
        "idf = IDF(inputCol=\"rawFeatures\", outputCol=\"features\")\n",
        "idf_model = idf.fit(featurized_data)\n",
        "tfidf_data = idf_model.transform(featurized_data)\n",
        "\n",
        "# Step 10: K-Means Clustering\n",
        "kmeans = KMeans(k=5, seed=1)  # Adjust 'k' based on your data\n",
        "model = kmeans.fit(tfidf_data)\n",
        "\n",
        "# Step 11: Make Predictions\n",
        "predictions = model.transform(tfidf_data)\n",
        "\n",
        "# Step 12: Show Cluster Results\n",
        "predictions.select(\"headline\", \"prediction\").show(10, truncate=False)\n"
      ],
      "metadata": {
        "colab": {
          "base_uri": "https://localhost:8080/"
        },
        "id": "DEKR2eBfNhMR",
        "outputId": "9c5bb944-3e5d-4ed4-d06a-eac831e40599"
      },
      "execution_count": 22,
      "outputs": [
        {
          "output_type": "stream",
          "name": "stdout",
          "text": [
            "root\n",
            " |-- headline: string (nullable = true)\n",
            " |-- category: string (nullable = true)\n",
            "\n",
            "+--------------------+----------+\n",
            "|            headline|  category|\n",
            "+--------------------+----------+\n",
            "|Stock market toda...|     Other|\n",
            "|NFL Fantasy 2024 ...|     Other|\n",
            "|Four killed, 14 i...|     Other|\n",
            "|How long can you ...|     Other|\n",
            "|Maps and charts: ...|  Politics|\n",
            "|Apple Releases Fi...|Technology|\n",
            "|Apple and Goldman...|Technology|\n",
            "|Chinese influence...|     Other|\n",
            "|Iranian hacker gr...|  Politics|\n",
            "|Boeing reports $6...|     Other|\n",
            "+--------------------+----------+\n",
            "only showing top 10 rows\n",
            "\n",
            "+-------------------------------------------------------------------------------------------------------------------------+----------+\n",
            "|headline                                                                                                                 |prediction|\n",
            "+-------------------------------------------------------------------------------------------------------------------------+----------+\n",
            "|stock market today: nasdaq leads stocks lower as wall street braces for tesla earnings - yahoo finance                   |2         |\n",
            "|nfl fantasy 2024 start 'em, sit 'em: quarterbacks for week 8 - nfl.com                                                   |0         |\n",
            "|four killed, 14 injured in terror attack on turkish aerospace company - cnn                                              |4         |\n",
            "|how long can you stand on one foot? the answer may predict your fall risk. - the washington post                         |0         |\n",
            "|maps and charts: tracking the early votes in key states and how it compares to 2020 | cnn politics - cnn                 |4         |\n",
            "|apple releases first betas of ios 18.2 and more with genmoji, image playground and chatgpt integration - macrumors       |2         |\n",
            "|apple and goldman sachs fined millions for misleading apple card holders - the verge                                     |2         |\n",
            "|chinese influence operation targets us down ballot races, microsoft says - reuters                                       |0         |\n",
            "|iranian hacker group focuses on us election websites, media, ahead of vote, microsoft says - reuters                     |1         |\n",
            "|boeing reports $6 billion quarterly loss as striking workers vote whether to accept contract offer - the associated press|1         |\n",
            "+-------------------------------------------------------------------------------------------------------------------------+----------+\n",
            "only showing top 10 rows\n",
            "\n"
          ]
        }
      ]
    },
    {
      "cell_type": "code",
      "source": [
        "from sklearn.manifold import TSNE\n",
        "import matplotlib.pyplot as plt\n",
        "import seaborn as sns\n",
        "\"\"\"\n",
        "features_array=processed_data.select('features').collect()\n",
        "tsne = TSNE(n_components=2, perplexity=5, random_state=42)  # Adjust perplexity\n",
        "tsne_result = tsne.fit_transform(features_array)\n",
        "\"\"\""
      ],
      "metadata": {
        "colab": {
          "base_uri": "https://localhost:8080/",
          "height": 54
        },
        "id": "NYkUxXTdH074",
        "outputId": "5e168cda-efb8-4e33-fcf4-c51d1a60b94b"
      },
      "execution_count": 24,
      "outputs": [
        {
          "output_type": "execute_result",
          "data": {
            "text/plain": [
              "\"\\nfeatures_array=processed_data.select('features').collect()\\ntsne = TSNE(n_components=2, perplexity=5, random_state=42)  # Adjust perplexity\\ntsne_result = tsne.fit_transform(features_array)\\n\""
            ],
            "application/vnd.google.colaboratory.intrinsic+json": {
              "type": "string"
            }
          },
          "metadata": {},
          "execution_count": 24
        }
      ]
    },
    {
      "cell_type": "code",
      "source": [
        "print(features_array.shape)"
      ],
      "metadata": {
        "colab": {
          "base_uri": "https://localhost:8080/"
        },
        "id": "eNvFCe6UIBBP",
        "outputId": "6f27a92f-4c2c-4456-c4c4-93d2ef923f5c"
      },
      "execution_count": null,
      "outputs": [
        {
          "output_type": "stream",
          "name": "stdout",
          "text": [
            "(20, 10000)\n"
          ]
        }
      ]
    },
    {
      "cell_type": "code",
      "source": [
        "from sklearn.decomposition import PCA\n",
        "\"\"\"\n",
        "# Reduce to 50 dimensions with PCA\n",
        "pca = PCA(n_components=50, random_state=42)\n",
        "features_reduced = pca.fit_transform(features_array)\n",
        "\n",
        "# Now apply t-SNE on the reduced features\n",
        "tsne = TSNE(n_components=2, perplexity=5, random_state=42)\n",
        "tsne_result = tsne.fit_transform(features_reduced)\n",
        "\"\"\""
      ],
      "metadata": {
        "colab": {
          "base_uri": "https://localhost:8080/",
          "height": 72
        },
        "id": "quSc8CfoIKMW",
        "outputId": "e272d146-a474-4761-e4c6-59c261ce2774"
      },
      "execution_count": 2,
      "outputs": [
        {
          "output_type": "execute_result",
          "data": {
            "text/plain": [
              "'\\n# Reduce to 50 dimensions with PCA\\npca = PCA(n_components=50, random_state=42)\\nfeatures_reduced = pca.fit_transform(features_array)\\n\\n# Now apply t-SNE on the reduced features\\ntsne = TSNE(n_components=2, perplexity=5, random_state=42)\\ntsne_result = tsne.fit_transform(features_reduced)\\n'"
            ],
            "application/vnd.google.colaboratory.intrinsic+json": {
              "type": "string"
            }
          },
          "metadata": {},
          "execution_count": 2
        }
      ]
    },
    {
      "cell_type": "code",
      "source": [
        "from sklearn.manifold import TSNE\n",
        "\"\"\"\n",
        "tsne = TSNE(n_components=2, random_state=42)\n",
        "tsne_result = tsne.fit_transform(features_array)\n",
        "pandas_df['tsne1'] = tsne_result[:, 0]\n",
        "pandas_df['tsne2'] = tsne_result[:, 1]\n",
        "\n",
        "plt.figure(figsize=(10, 7))\n",
        "sns.scatterplot(data=pandas_df, x='tsne1', y='tsne2', hue='prediction', palette='viridis', s=50)\n",
        "plt.title(\"K-Means Clusters Visualized with t-SNE\")\n",
        "plt.show()\n",
        "\"\"\""
      ],
      "metadata": {
        "colab": {
          "base_uri": "https://localhost:8080/",
          "height": 72
        },
        "id": "GlxUO67oHlLc",
        "outputId": "0db973e7-24fc-4778-b1ea-3b725f2c3ec3"
      },
      "execution_count": 1,
      "outputs": [
        {
          "output_type": "execute_result",
          "data": {
            "text/plain": [
              "'\\ntsne = TSNE(n_components=2, random_state=42)\\ntsne_result = tsne.fit_transform(features_array)\\npandas_df[\\'tsne1\\'] = tsne_result[:, 0]\\npandas_df[\\'tsne2\\'] = tsne_result[:, 1]\\n\\nplt.figure(figsize=(10, 7))\\nsns.scatterplot(data=pandas_df, x=\\'tsne1\\', y=\\'tsne2\\', hue=\\'prediction\\', palette=\\'viridis\\', s=50)\\nplt.title(\"K-Means Clusters Visualized with t-SNE\")\\nplt.show()\\n'"
            ],
            "application/vnd.google.colaboratory.intrinsic+json": {
              "type": "string"
            }
          },
          "metadata": {},
          "execution_count": 1
        }
      ]
    }
  ]
}